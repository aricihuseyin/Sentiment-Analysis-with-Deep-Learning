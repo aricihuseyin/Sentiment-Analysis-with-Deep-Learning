{
 "cells": [
  {
   "cell_type": "code",
   "execution_count": 1,
   "id": "2027abce-c6bc-4457-9452-c056cd1aa401",
   "metadata": {},
   "outputs": [],
   "source": [
    "# Importing necessary libraries\n",
    "import numpy as np\n",
    "import pandas as pd\n",
    "from sklearn.model_selection import train_test_split\n",
    "from sklearn.preprocessing import LabelEncoder\n",
    "from sklearn.metrics import confusion_matrix\n",
    "from tensorflow.keras.preprocessing.text import Tokenizer\n",
    "from tensorflow.keras.preprocessing.sequence import pad_sequences\n",
    "from tensorflow.keras.models import Sequential\n",
    "from tensorflow.keras.layers import Embedding, LSTM, Dense, Dropout\n",
    "from tensorflow.keras.callbacks import EarlyStopping"
   ]
  },
  {
   "cell_type": "code",
   "execution_count": 3,
   "id": "29f6e262-f2fd-4404-ac21-3de105431e5e",
   "metadata": {},
   "outputs": [],
   "source": [
    "# Load the dataset\n",
    "dataset = pd.read_csv('internetreviews.csv')"
   ]
  },
  {
   "cell_type": "code",
   "execution_count": 4,
   "id": "c8939ee2-ee24-4d9f-8913-31ace3b9b8e4",
   "metadata": {},
   "outputs": [
    {
     "data": {
      "text/html": [
       "<div>\n",
       "<style scoped>\n",
       "    .dataframe tbody tr th:only-of-type {\n",
       "        vertical-align: middle;\n",
       "    }\n",
       "\n",
       "    .dataframe tbody tr th {\n",
       "        vertical-align: top;\n",
       "    }\n",
       "\n",
       "    .dataframe thead th {\n",
       "        text-align: right;\n",
       "    }\n",
       "</style>\n",
       "<table border=\"1\" class=\"dataframe\">\n",
       "  <thead>\n",
       "    <tr style=\"text-align: right;\">\n",
       "      <th></th>\n",
       "      <th>id</th>\n",
       "      <th>score</th>\n",
       "      <th>review</th>\n",
       "    </tr>\n",
       "  </thead>\n",
       "  <tbody>\n",
       "    <tr>\n",
       "      <th>0</th>\n",
       "      <td>0</td>\n",
       "      <td>Positive</td>\n",
       "      <td>Kokusu çok güzel etkisi de efsane</td>\n",
       "    </tr>\n",
       "    <tr>\n",
       "      <th>1</th>\n",
       "      <td>1</td>\n",
       "      <td>Negative</td>\n",
       "      <td>hiç bir fark olmadı siyah nokta silmedi</td>\n",
       "    </tr>\n",
       "    <tr>\n",
       "      <th>2</th>\n",
       "      <td>2</td>\n",
       "      <td>Positive</td>\n",
       "      <td>şeffaf güzel bir krem elimi yumuşacık yaptı</td>\n",
       "    </tr>\n",
       "    <tr>\n",
       "      <th>3</th>\n",
       "      <td>3</td>\n",
       "      <td>Positive</td>\n",
       "      <td>Özellikle karma ve hassas cildiniz varsa La Ro...</td>\n",
       "    </tr>\n",
       "    <tr>\n",
       "      <th>4</th>\n",
       "      <td>4</td>\n",
       "      <td>Negative</td>\n",
       "      <td>çok iyi nemlendiriyor ama daha ucuz muadilleri...</td>\n",
       "    </tr>\n",
       "    <tr>\n",
       "      <th>5</th>\n",
       "      <td>5</td>\n",
       "      <td>Neutral</td>\n",
       "      <td>Ürün fena değil güzel tabi öbür kimyasallar gi...</td>\n",
       "    </tr>\n",
       "    <tr>\n",
       "      <th>6</th>\n",
       "      <td>6</td>\n",
       "      <td>Negative</td>\n",
       "      <td>şampuan çok köttü</td>\n",
       "    </tr>\n",
       "    <tr>\n",
       "      <th>7</th>\n",
       "      <td>7</td>\n",
       "      <td>Negative</td>\n",
       "      <td>Ürün kullanıp memnun olduğum bir ürün fakat şi...</td>\n",
       "    </tr>\n",
       "    <tr>\n",
       "      <th>8</th>\n",
       "      <td>8</td>\n",
       "      <td>Neutral</td>\n",
       "      <td>yeni kullaniyorum dokulmeleri azaltır inşallah</td>\n",
       "    </tr>\n",
       "    <tr>\n",
       "      <th>9</th>\n",
       "      <td>9</td>\n",
       "      <td>Positive</td>\n",
       "      <td>Kesinlikle saçlarınızda sarı işlem barsa hafta...</td>\n",
       "    </tr>\n",
       "  </tbody>\n",
       "</table>\n",
       "</div>"
      ],
      "text/plain": [
       "   id     score                                             review\n",
       "0   0  Positive                  Kokusu çok güzel etkisi de efsane\n",
       "1   1  Negative            hiç bir fark olmadı siyah nokta silmedi\n",
       "2   2  Positive        şeffaf güzel bir krem elimi yumuşacık yaptı\n",
       "3   3  Positive  Özellikle karma ve hassas cildiniz varsa La Ro...\n",
       "4   4  Negative  çok iyi nemlendiriyor ama daha ucuz muadilleri...\n",
       "5   5   Neutral  Ürün fena değil güzel tabi öbür kimyasallar gi...\n",
       "6   6  Negative                                  şampuan çok köttü\n",
       "7   7  Negative  Ürün kullanıp memnun olduğum bir ürün fakat şi...\n",
       "8   8   Neutral     yeni kullaniyorum dokulmeleri azaltır inşallah\n",
       "9   9  Positive  Kesinlikle saçlarınızda sarı işlem barsa hafta..."
      ]
     },
     "execution_count": 4,
     "metadata": {},
     "output_type": "execute_result"
    }
   ],
   "source": [
    "dataset.head(10)"
   ]
  },
  {
   "cell_type": "code",
   "execution_count": 5,
   "id": "cfbd2a05-155a-40af-b89d-9a297cca5f2e",
   "metadata": {},
   "outputs": [],
   "source": [
    "# Filter the dataset to discard Neutral reviews\n",
    "filtered_dataset = dataset[dataset['score'].isin(['Positive', 'Negative'])]"
   ]
  },
  {
   "cell_type": "code",
   "execution_count": 6,
   "id": "527d0869-7aa8-473d-9806-cd7b8079d66f",
   "metadata": {},
   "outputs": [],
   "source": [
    "# Shuffle the filtered dataset\n",
    "filtered_dataset = filtered_dataset.sample(frac=1).reset_index(drop=True)"
   ]
  },
  {
   "cell_type": "code",
   "execution_count": 7,
   "id": "77d84a1d-cbba-4bca-89f9-f626cee8e82b",
   "metadata": {},
   "outputs": [
    {
     "data": {
      "text/html": [
       "<div>\n",
       "<style scoped>\n",
       "    .dataframe tbody tr th:only-of-type {\n",
       "        vertical-align: middle;\n",
       "    }\n",
       "\n",
       "    .dataframe tbody tr th {\n",
       "        vertical-align: top;\n",
       "    }\n",
       "\n",
       "    .dataframe thead th {\n",
       "        text-align: right;\n",
       "    }\n",
       "</style>\n",
       "<table border=\"1\" class=\"dataframe\">\n",
       "  <thead>\n",
       "    <tr style=\"text-align: right;\">\n",
       "      <th></th>\n",
       "      <th>id</th>\n",
       "      <th>score</th>\n",
       "      <th>review</th>\n",
       "    </tr>\n",
       "  </thead>\n",
       "  <tbody>\n",
       "    <tr>\n",
       "      <th>0</th>\n",
       "      <td>80325</td>\n",
       "      <td>Positive</td>\n",
       "      <td>kargo çok hızlı geldi. ürünü kullanalı 3 gün o...</td>\n",
       "    </tr>\n",
       "    <tr>\n",
       "      <th>1</th>\n",
       "      <td>48531</td>\n",
       "      <td>Positive</td>\n",
       "      <td>En sevdiğim maskara, gayet memnunum.Diğer mask...</td>\n",
       "    </tr>\n",
       "    <tr>\n",
       "      <th>2</th>\n",
       "      <td>90552</td>\n",
       "      <td>Negative</td>\n",
       "      <td>Yıllardır bu ürünü kullanırım.bunda bir sıkınt...</td>\n",
       "    </tr>\n",
       "    <tr>\n",
       "      <th>3</th>\n",
       "      <td>31785</td>\n",
       "      <td>Negative</td>\n",
       "      <td>Herkes işe yarıyor demiş ama işe yaramadı bend...</td>\n",
       "    </tr>\n",
       "    <tr>\n",
       "      <th>4</th>\n",
       "      <td>61551</td>\n",
       "      <td>Negative</td>\n",
       "      <td>kalitesiz ürün iade</td>\n",
       "    </tr>\n",
       "  </tbody>\n",
       "</table>\n",
       "</div>"
      ],
      "text/plain": [
       "      id     score                                             review\n",
       "0  80325  Positive  kargo çok hızlı geldi. ürünü kullanalı 3 gün o...\n",
       "1  48531  Positive  En sevdiğim maskara, gayet memnunum.Diğer mask...\n",
       "2  90552  Negative  Yıllardır bu ürünü kullanırım.bunda bir sıkınt...\n",
       "3  31785  Negative  Herkes işe yarıyor demiş ama işe yaramadı bend...\n",
       "4  61551  Negative                                kalitesiz ürün iade"
      ]
     },
     "execution_count": 7,
     "metadata": {},
     "output_type": "execute_result"
    }
   ],
   "source": [
    "filtered_dataset.head()"
   ]
  },
  {
   "cell_type": "code",
   "execution_count": 8,
   "id": "982217d2-fa92-4031-a0ca-a91f7466810b",
   "metadata": {},
   "outputs": [],
   "source": [
    "# Encode the sentiment labels\n",
    "label_encoder = LabelEncoder()\n",
    "filtered_dataset['score'] = label_encoder.fit_transform(filtered_dataset['score'])"
   ]
  },
  {
   "cell_type": "code",
   "execution_count": 9,
   "id": "d3b75c3d-215b-4050-89f8-46f4c64bc554",
   "metadata": {},
   "outputs": [],
   "source": [
    "# Split dataset into train and test sets\n",
    "X = filtered_dataset['review'].values\n",
    "y = filtered_dataset['score'].values\n",
    "X_train, X_test, y_train, y_test = train_test_split(X, y, test_size=0.2, random_state=42)"
   ]
  },
  {
   "cell_type": "code",
   "execution_count": 10,
   "id": "70bedd65-7c10-446e-8dd8-8a9b768774ef",
   "metadata": {},
   "outputs": [],
   "source": [
    "# Tokenize the text data\n",
    "tokenizer = Tokenizer()\n",
    "tokenizer.fit_on_texts(X_train)"
   ]
  },
  {
   "cell_type": "code",
   "execution_count": 11,
   "id": "08a58ff4-e1cf-4046-94c1-354b4d709d70",
   "metadata": {},
   "outputs": [],
   "source": [
    "X_train_seq = tokenizer.texts_to_sequences(X_train)\n",
    "X_test_seq = tokenizer.texts_to_sequences(X_test)"
   ]
  },
  {
   "cell_type": "code",
   "execution_count": 12,
   "id": "28b591d1-9174-421c-b2af-ccef7f9d49b0",
   "metadata": {},
   "outputs": [],
   "source": [
    "# Pad sequences to ensure uniform length\n",
    "maxlen = 100\n",
    "X_train_pad = pad_sequences(X_train_seq, maxlen=maxlen)\n",
    "X_test_pad = pad_sequences(X_test_seq, maxlen=maxlen)"
   ]
  },
  {
   "cell_type": "code",
   "execution_count": 14,
   "id": "f5ccfdb6-9e64-4146-aecd-117be83c732f",
   "metadata": {},
   "outputs": [
    {
     "name": "stderr",
     "output_type": "stream",
     "text": [
      "C:\\Users\\hsyn_\\anaconda3\\Lib\\site-packages\\keras\\src\\layers\\rnn\\rnn.py:204: UserWarning: Do not pass an `input_shape`/`input_dim` argument to a layer. When using Sequential models, prefer using an `Input(shape)` object as the first layer in the model instead.\n",
      "  super().__init__(**kwargs)\n"
     ]
    }
   ],
   "source": [
    "# Build the deep learning model\n",
    "embedding_dim = 100\n",
    "model = Sequential([\n",
    "    Embedding(input_dim=len(tokenizer.word_index)+1, output_dim=embedding_dim),\n",
    "    LSTM(64, input_shape=(maxlen, embedding_dim)),  # Specify input_length here\n",
    "    Dense(64, activation='relu'),\n",
    "    Dropout(0.5),\n",
    "    Dense(1, activation='sigmoid')\n",
    "])"
   ]
  },
  {
   "cell_type": "code",
   "execution_count": 15,
   "id": "470f99a0-747e-4f0f-bb61-a985e742ee7e",
   "metadata": {},
   "outputs": [],
   "source": [
    "model.compile(loss='binary_crossentropy', optimizer='adam', metrics=['accuracy'])"
   ]
  },
  {
   "cell_type": "code",
   "execution_count": 16,
   "id": "48dd63c2-1356-4353-8102-0e571273b2bb",
   "metadata": {},
   "outputs": [],
   "source": [
    "# Define early stopping to prevent overfitting\n",
    "early_stopping = EarlyStopping(monitor='val_loss', patience=3, restore_best_weights=True)"
   ]
  },
  {
   "cell_type": "code",
   "execution_count": 17,
   "id": "bf51339f-dc28-417d-b063-c975199b13ed",
   "metadata": {},
   "outputs": [
    {
     "name": "stdout",
     "output_type": "stream",
     "text": [
      "Epoch 1/10\n",
      "\u001b[1m2250/2250\u001b[0m \u001b[32m━━━━━━━━━━━━━━━━━━━━\u001b[0m\u001b[37m\u001b[0m \u001b[1m145s\u001b[0m 63ms/step - accuracy: 0.8931 - loss: 0.2551 - val_accuracy: 0.9479 - val_loss: 0.1367\n",
      "Epoch 2/10\n",
      "\u001b[1m2250/2250\u001b[0m \u001b[32m━━━━━━━━━━━━━━━━━━━━\u001b[0m\u001b[37m\u001b[0m \u001b[1m140s\u001b[0m 62ms/step - accuracy: 0.9695 - loss: 0.0954 - val_accuracy: 0.9479 - val_loss: 0.1524\n",
      "Epoch 3/10\n",
      "\u001b[1m2250/2250\u001b[0m \u001b[32m━━━━━━━━━━━━━━━━━━━━\u001b[0m\u001b[37m\u001b[0m \u001b[1m134s\u001b[0m 60ms/step - accuracy: 0.9791 - loss: 0.0655 - val_accuracy: 0.9452 - val_loss: 0.1598\n",
      "Epoch 4/10\n",
      "\u001b[1m2250/2250\u001b[0m \u001b[32m━━━━━━━━━━━━━━━━━━━━\u001b[0m\u001b[37m\u001b[0m \u001b[1m121s\u001b[0m 54ms/step - accuracy: 0.9835 - loss: 0.0517 - val_accuracy: 0.9451 - val_loss: 0.1936\n"
     ]
    }
   ],
   "source": [
    "# Train the model\n",
    "history = model.fit(X_train_pad, y_train, epochs=10, batch_size=32, validation_split=0.1, callbacks=[early_stopping])"
   ]
  },
  {
   "cell_type": "code",
   "execution_count": 18,
   "id": "86ea2446-3c4c-4ae2-b3be-d3bbc4c319de",
   "metadata": {},
   "outputs": [],
   "source": [
    "# Evaluate the model\n",
    "train_acc = model.evaluate(X_train_pad, y_train, verbose=0)[1]\n",
    "test_acc = model.evaluate(X_test_pad, y_test, verbose=0)[1]"
   ]
  },
  {
   "cell_type": "code",
   "execution_count": 19,
   "id": "d4a4d7f4-11c1-4bbe-8f94-4645311a3f2b",
   "metadata": {},
   "outputs": [
    {
     "name": "stdout",
     "output_type": "stream",
     "text": [
      "Model Summary:\n"
     ]
    },
    {
     "data": {
      "text/html": [
       "<pre style=\"white-space:pre;overflow-x:auto;line-height:normal;font-family:Menlo,'DejaVu Sans Mono',consolas,'Courier New',monospace\"><span style=\"font-weight: bold\">Model: \"sequential\"</span>\n",
       "</pre>\n"
      ],
      "text/plain": [
       "\u001b[1mModel: \"sequential\"\u001b[0m\n"
      ]
     },
     "metadata": {},
     "output_type": "display_data"
    },
    {
     "data": {
      "text/html": [
       "<pre style=\"white-space:pre;overflow-x:auto;line-height:normal;font-family:Menlo,'DejaVu Sans Mono',consolas,'Courier New',monospace\">┏━━━━━━━━━━━━━━━━━━━━━━━━━━━━━━━━━┳━━━━━━━━━━━━━━━━━━━━━━━━┳━━━━━━━━━━━━━━━┓\n",
       "┃<span style=\"font-weight: bold\"> Layer (type)                    </span>┃<span style=\"font-weight: bold\"> Output Shape           </span>┃<span style=\"font-weight: bold\">       Param # </span>┃\n",
       "┡━━━━━━━━━━━━━━━━━━━━━━━━━━━━━━━━━╇━━━━━━━━━━━━━━━━━━━━━━━━╇━━━━━━━━━━━━━━━┩\n",
       "│ embedding_1 (<span style=\"color: #0087ff; text-decoration-color: #0087ff\">Embedding</span>)         │ (<span style=\"color: #00af00; text-decoration-color: #00af00\">32</span>, <span style=\"color: #00af00; text-decoration-color: #00af00\">100</span>, <span style=\"color: #00af00; text-decoration-color: #00af00\">100</span>)         │     <span style=\"color: #00af00; text-decoration-color: #00af00\">5,885,600</span> │\n",
       "├─────────────────────────────────┼────────────────────────┼───────────────┤\n",
       "│ lstm (<span style=\"color: #0087ff; text-decoration-color: #0087ff\">LSTM</span>)                     │ (<span style=\"color: #00af00; text-decoration-color: #00af00\">32</span>, <span style=\"color: #00af00; text-decoration-color: #00af00\">64</span>)               │        <span style=\"color: #00af00; text-decoration-color: #00af00\">42,240</span> │\n",
       "├─────────────────────────────────┼────────────────────────┼───────────────┤\n",
       "│ dense (<span style=\"color: #0087ff; text-decoration-color: #0087ff\">Dense</span>)                   │ (<span style=\"color: #00af00; text-decoration-color: #00af00\">32</span>, <span style=\"color: #00af00; text-decoration-color: #00af00\">64</span>)               │         <span style=\"color: #00af00; text-decoration-color: #00af00\">4,160</span> │\n",
       "├─────────────────────────────────┼────────────────────────┼───────────────┤\n",
       "│ dropout (<span style=\"color: #0087ff; text-decoration-color: #0087ff\">Dropout</span>)               │ (<span style=\"color: #00af00; text-decoration-color: #00af00\">32</span>, <span style=\"color: #00af00; text-decoration-color: #00af00\">64</span>)               │             <span style=\"color: #00af00; text-decoration-color: #00af00\">0</span> │\n",
       "├─────────────────────────────────┼────────────────────────┼───────────────┤\n",
       "│ dense_1 (<span style=\"color: #0087ff; text-decoration-color: #0087ff\">Dense</span>)                 │ (<span style=\"color: #00af00; text-decoration-color: #00af00\">32</span>, <span style=\"color: #00af00; text-decoration-color: #00af00\">1</span>)                │            <span style=\"color: #00af00; text-decoration-color: #00af00\">65</span> │\n",
       "└─────────────────────────────────┴────────────────────────┴───────────────┘\n",
       "</pre>\n"
      ],
      "text/plain": [
       "┏━━━━━━━━━━━━━━━━━━━━━━━━━━━━━━━━━┳━━━━━━━━━━━━━━━━━━━━━━━━┳━━━━━━━━━━━━━━━┓\n",
       "┃\u001b[1m \u001b[0m\u001b[1mLayer (type)                   \u001b[0m\u001b[1m \u001b[0m┃\u001b[1m \u001b[0m\u001b[1mOutput Shape          \u001b[0m\u001b[1m \u001b[0m┃\u001b[1m \u001b[0m\u001b[1m      Param #\u001b[0m\u001b[1m \u001b[0m┃\n",
       "┡━━━━━━━━━━━━━━━━━━━━━━━━━━━━━━━━━╇━━━━━━━━━━━━━━━━━━━━━━━━╇━━━━━━━━━━━━━━━┩\n",
       "│ embedding_1 (\u001b[38;5;33mEmbedding\u001b[0m)         │ (\u001b[38;5;34m32\u001b[0m, \u001b[38;5;34m100\u001b[0m, \u001b[38;5;34m100\u001b[0m)         │     \u001b[38;5;34m5,885,600\u001b[0m │\n",
       "├─────────────────────────────────┼────────────────────────┼───────────────┤\n",
       "│ lstm (\u001b[38;5;33mLSTM\u001b[0m)                     │ (\u001b[38;5;34m32\u001b[0m, \u001b[38;5;34m64\u001b[0m)               │        \u001b[38;5;34m42,240\u001b[0m │\n",
       "├─────────────────────────────────┼────────────────────────┼───────────────┤\n",
       "│ dense (\u001b[38;5;33mDense\u001b[0m)                   │ (\u001b[38;5;34m32\u001b[0m, \u001b[38;5;34m64\u001b[0m)               │         \u001b[38;5;34m4,160\u001b[0m │\n",
       "├─────────────────────────────────┼────────────────────────┼───────────────┤\n",
       "│ dropout (\u001b[38;5;33mDropout\u001b[0m)               │ (\u001b[38;5;34m32\u001b[0m, \u001b[38;5;34m64\u001b[0m)               │             \u001b[38;5;34m0\u001b[0m │\n",
       "├─────────────────────────────────┼────────────────────────┼───────────────┤\n",
       "│ dense_1 (\u001b[38;5;33mDense\u001b[0m)                 │ (\u001b[38;5;34m32\u001b[0m, \u001b[38;5;34m1\u001b[0m)                │            \u001b[38;5;34m65\u001b[0m │\n",
       "└─────────────────────────────────┴────────────────────────┴───────────────┘\n"
      ]
     },
     "metadata": {},
     "output_type": "display_data"
    },
    {
     "data": {
      "text/html": [
       "<pre style=\"white-space:pre;overflow-x:auto;line-height:normal;font-family:Menlo,'DejaVu Sans Mono',consolas,'Courier New',monospace\"><span style=\"font-weight: bold\"> Total params: </span><span style=\"color: #00af00; text-decoration-color: #00af00\">17,796,197</span> (67.89 MB)\n",
       "</pre>\n"
      ],
      "text/plain": [
       "\u001b[1m Total params: \u001b[0m\u001b[38;5;34m17,796,197\u001b[0m (67.89 MB)\n"
      ]
     },
     "metadata": {},
     "output_type": "display_data"
    },
    {
     "data": {
      "text/html": [
       "<pre style=\"white-space:pre;overflow-x:auto;line-height:normal;font-family:Menlo,'DejaVu Sans Mono',consolas,'Courier New',monospace\"><span style=\"font-weight: bold\"> Trainable params: </span><span style=\"color: #00af00; text-decoration-color: #00af00\">5,932,065</span> (22.63 MB)\n",
       "</pre>\n"
      ],
      "text/plain": [
       "\u001b[1m Trainable params: \u001b[0m\u001b[38;5;34m5,932,065\u001b[0m (22.63 MB)\n"
      ]
     },
     "metadata": {},
     "output_type": "display_data"
    },
    {
     "data": {
      "text/html": [
       "<pre style=\"white-space:pre;overflow-x:auto;line-height:normal;font-family:Menlo,'DejaVu Sans Mono',consolas,'Courier New',monospace\"><span style=\"font-weight: bold\"> Non-trainable params: </span><span style=\"color: #00af00; text-decoration-color: #00af00\">0</span> (0.00 B)\n",
       "</pre>\n"
      ],
      "text/plain": [
       "\u001b[1m Non-trainable params: \u001b[0m\u001b[38;5;34m0\u001b[0m (0.00 B)\n"
      ]
     },
     "metadata": {},
     "output_type": "display_data"
    },
    {
     "data": {
      "text/html": [
       "<pre style=\"white-space:pre;overflow-x:auto;line-height:normal;font-family:Menlo,'DejaVu Sans Mono',consolas,'Courier New',monospace\"><span style=\"font-weight: bold\"> Optimizer params: </span><span style=\"color: #00af00; text-decoration-color: #00af00\">11,864,132</span> (45.26 MB)\n",
       "</pre>\n"
      ],
      "text/plain": [
       "\u001b[1m Optimizer params: \u001b[0m\u001b[38;5;34m11,864,132\u001b[0m (45.26 MB)\n"
      ]
     },
     "metadata": {},
     "output_type": "display_data"
    },
    {
     "name": "stdout",
     "output_type": "stream",
     "text": [
      "None\n"
     ]
    }
   ],
   "source": [
    "# Print model summary\n",
    "print(\"Model Summary:\")\n",
    "print(model.summary())"
   ]
  },
  {
   "cell_type": "code",
   "execution_count": 20,
   "id": "4599c9f1-39f4-4998-8a5e-6d40fbf107ce",
   "metadata": {},
   "outputs": [
    {
     "name": "stdout",
     "output_type": "stream",
     "text": [
      "\n",
      "Model Training Parameters:\n",
      "Training Accuracy: 0.9689124822616577\n",
      "Test Accuracy: 0.9504500031471252\n"
     ]
    }
   ],
   "source": [
    "# Print model training parameters\n",
    "print(\"\\nModel Training Parameters:\")\n",
    "print(\"Training Accuracy:\", train_acc)\n",
    "print(\"Test Accuracy:\", test_acc)"
   ]
  },
  {
   "cell_type": "code",
   "execution_count": 21,
   "id": "dc95131a-cafb-4888-8cfe-fda15db69d55",
   "metadata": {},
   "outputs": [],
   "source": [
    "# Make predictions for the provided comments\n",
    "comments = [\n",
    "    'bu zamana kadar birçok Ürün kullandım ama bu tamamen başka, tam bir fiyat performans ürünü kesinlikle tavsiye ederim.',\n",
    "    'Daha henüz deneme fırsatım olmadı, deneyince yorumumu güncellerim.',\n",
    "    'babama almıştım, o kadar güzel ki bir tane de kendime sipariŞ verdim.',\n",
    "    'bu devirde bu kadar berbat bir ürünü yapmakta ayrı bir marifet, kesinlikle almayın.',\n",
    "    'slm ürünü heyecanla açtım ama sonuç tam bir hayal kırıklığğı,'\n",
    "]"
   ]
  },
  {
   "cell_type": "code",
   "execution_count": 22,
   "id": "747f9ce7-7623-4c4c-81fd-c0f35fee1116",
   "metadata": {},
   "outputs": [],
   "source": [
    "# Tokenize and pad sequences for the comments\n",
    "comments_seq = tokenizer.texts_to_sequences(comments)\n",
    "comments_pad = pad_sequences(comments_seq, maxlen=maxlen)"
   ]
  },
  {
   "cell_type": "code",
   "execution_count": 23,
   "id": "9ea27d5d-65f4-4fc1-9237-f07db7e5b47e",
   "metadata": {},
   "outputs": [
    {
     "name": "stdout",
     "output_type": "stream",
     "text": [
      "\u001b[1m1/1\u001b[0m \u001b[32m━━━━━━━━━━━━━━━━━━━━\u001b[0m\u001b[37m\u001b[0m \u001b[1m0s\u001b[0m 214ms/step\n"
     ]
    }
   ],
   "source": [
    "# Make predictions\n",
    "predictions = model.predict(comments_pad)\n",
    "binary_predictions = (predictions > 0.5).astype(int)"
   ]
  },
  {
   "cell_type": "code",
   "execution_count": 24,
   "id": "76354ca7-6ec3-4c06-b5e6-be4b65ce03a0",
   "metadata": {},
   "outputs": [],
   "source": [
    "# Decode the predictions\n",
    "decoded_predictions = label_encoder.inverse_transform(binary_predictions.flatten())"
   ]
  },
  {
   "cell_type": "code",
   "execution_count": 25,
   "id": "7b468ce8-c787-4581-8d9f-7fd96007747b",
   "metadata": {},
   "outputs": [
    {
     "name": "stdout",
     "output_type": "stream",
     "text": [
      "\u001b[1m2500/2500\u001b[0m \u001b[32m━━━━━━━━━━━━━━━━━━━━\u001b[0m\u001b[37m\u001b[0m \u001b[1m20s\u001b[0m 8ms/step\n",
      "\u001b[1m625/625\u001b[0m \u001b[32m━━━━━━━━━━━━━━━━━━━━\u001b[0m\u001b[37m\u001b[0m \u001b[1m5s\u001b[0m 8ms/step\n"
     ]
    }
   ],
   "source": [
    "# Make predictions for train and test sets\n",
    "y_train_pred_probs = model.predict(X_train_pad)\n",
    "y_test_pred_probs = model.predict(X_test_pad)"
   ]
  },
  {
   "cell_type": "code",
   "execution_count": 26,
   "id": "4c3397ee-e19d-4538-bdd6-fb053c40d6ca",
   "metadata": {},
   "outputs": [],
   "source": [
    "# Convert probabilities to binary predictions using a threshold of 0.5\n",
    "y_train_pred = (y_train_pred_probs > 0.5).astype(int)\n",
    "y_test_pred = (y_test_pred_probs > 0.5).astype(int)"
   ]
  },
  {
   "cell_type": "code",
   "execution_count": 27,
   "id": "1baa9f84-d1c5-4fc8-8383-f5f35fdae5eb",
   "metadata": {},
   "outputs": [],
   "source": [
    "# Generate confusion matrix for train and test results\n",
    "conf_mat_train = confusion_matrix(y_train, y_train_pred)\n",
    "conf_mat_test = confusion_matrix(y_test, y_test_pred)"
   ]
  },
  {
   "cell_type": "code",
   "execution_count": 28,
   "id": "2a931204-effa-4f11-9bfd-d9def4780cd2",
   "metadata": {},
   "outputs": [
    {
     "name": "stdout",
     "output_type": "stream",
     "text": [
      "\n",
      "Confusion Matrix - Train:\n",
      "[[38422  1641]\n",
      " [  846 39091]]\n",
      "\n",
      "Confusion Matrix - Test:\n",
      "[[9324  613]\n",
      " [ 378 9685]]\n"
     ]
    }
   ],
   "source": [
    "# Print confusion matrix\n",
    "print(\"\\nConfusion Matrix - Train:\")\n",
    "print(conf_mat_train)\n",
    "print(\"\\nConfusion Matrix - Test:\")\n",
    "print(conf_mat_test)"
   ]
  },
  {
   "cell_type": "code",
   "execution_count": 29,
   "id": "2e042825-1ec0-4099-9129-9c1db89b454a",
   "metadata": {},
   "outputs": [
    {
     "name": "stdout",
     "output_type": "stream",
     "text": [
      "\n",
      "Prediction Results for Provided Comments:\n",
      "Comment: bu zamana kadar birçok Ürün kullandım ama bu tamamen başka, tam bir fiyat performans ürünü kesinlikle tavsiye ederim., Predicted Label: Positive\n",
      "Comment: Daha henüz deneme fırsatım olmadı, deneyince yorumumu güncellerim., Predicted Label: Positive\n",
      "Comment: babama almıştım, o kadar güzel ki bir tane de kendime sipariŞ verdim., Predicted Label: Positive\n",
      "Comment: bu devirde bu kadar berbat bir ürünü yapmakta ayrı bir marifet, kesinlikle almayın., Predicted Label: Negative\n",
      "Comment: slm ürünü heyecanla açtım ama sonuç tam bir hayal kırıklığğı,, Predicted Label: Negative\n"
     ]
    }
   ],
   "source": [
    "# Print prediction results for provided comments\n",
    "print(\"\\nPrediction Results for Provided Comments:\")\n",
    "for comment, prediction in zip(comments, decoded_predictions):\n",
    "    print(f\"Comment: {comment}, Predicted Label: {prediction}\")"
   ]
  },
  {
   "cell_type": "code",
   "execution_count": 30,
   "id": "51d2c766-febe-47dc-bee1-b3e7af73e754",
   "metadata": {},
   "outputs": [],
   "source": [
    "import matplotlib.pyplot as plt\n",
    "import seaborn as sns"
   ]
  },
  {
   "cell_type": "code",
   "execution_count": 31,
   "id": "0e7fd65c-0fb7-4d80-bc41-f5c1ae139b07",
   "metadata": {},
   "outputs": [
    {
     "data": {
      "image/png": "[encoded data removed]",
      "text/plain": [
       "<Figure size 800x600 with 1 Axes>"
      ]
     },
     "metadata": {},
     "output_type": "display_data"
    }
   ],
   "source": [
    "# Plot confusion matrix for train set\n",
    "plt.figure(figsize=(8, 6))\n",
    "sns.heatmap(conf_mat_train, annot=True, fmt=\"d\", cmap=\"Blues\", cbar=False)\n",
    "plt.title(\"Confusion Matrix - Train\")\n",
    "plt.xlabel(\"Predicted Label\")\n",
    "plt.ylabel(\"True Label\")\n",
    "plt.savefig(\"confusion_matrix_train.jpg\")"
   ]
  },
  {
   "cell_type": "code",
   "execution_count": 32,
   "id": "a70987b6-4a3e-4c29-b9ec-721813de09e3",
   "metadata": {},
   "outputs": [
    {
     "data": {
      "image/png": "[encoded data removed]",
      "text/plain": [
       "<Figure size 800x600 with 1 Axes>"
      ]
     },
     "metadata": {},
     "output_type": "display_data"
    }
   ],
   "source": [
    "# Plot confusion matrix for test set\n",
    "plt.figure(figsize=(8, 6))\n",
    "sns.heatmap(conf_mat_test, annot=True, fmt=\"d\", cmap=\"Blues\", cbar=False)\n",
    "plt.title(\"Confusion Matrix - Test\")\n",
    "plt.xlabel(\"Predicted Label\")\n",
    "plt.ylabel(\"True Label\")\n",
    "plt.savefig(\"confusion_matrix_test.jpg\")\n",
    "plt.show()"
   ]
  },
  {
   "cell_type": "code",
   "execution_count": null,
   "id": "540df0ac-a7d0-44ff-95ef-389005282a6b",
   "metadata": {},
   "outputs": [],
   "source": []
  },
  {
   "cell_type": "code",
   "execution_count": null,
   "id": "c246439a-d8b0-4378-8a8c-1dfff0b0f986",
   "metadata": {},
   "outputs": [],
   "source": []
  }
 ],
 "metadata": {
  "kernelspec": {
   "display_name": "Python 3 (ipykernel)",
   "language": "python",
   "name": "python3"
  },
  "language_info": {
   "codemirror_mode": {
    "name": "ipython",
    "version": 3
   },
   "file_extension": ".py",
   "mimetype": "text/x-python",
   "name": "python",
   "nbconvert_exporter": "python",
   "pygments_lexer": "ipython3",
   "version": "3.11.7"
  }
 },
 "nbformat": 4,
 "nbformat_minor": 5
}
